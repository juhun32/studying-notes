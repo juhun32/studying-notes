{
 "cells": [
  {
   "cell_type": "code",
   "execution_count": 1,
   "metadata": {},
   "outputs": [],
   "source": [
    "import random\n",
    "\n",
    "# 사용자의 입력과 모델의 응답을 처리하는 함수\n",
    "def generate_response(user_input):\n",
    "    # 기반 데이터와 매칭되는 응답을 정의합니다.\n",
    "    base_data = {\n",
    "        \"안녕\": [\"안녕하세요!\", \"안녕하십니까?\", \"안녕하세요~\"],\n",
    "        \"배고파\": [\"뭘 드시겠어요?\", \"음식 추천을 드릴까요?\", \"저도 배고파요!\"],\n",
    "        \"오늘 날씨 어때?\": [\"맑고 좋은 날씨입니다.\", \"비가 올 것 같아요.\", \"날씨는 많이 추워졌어요.\"]\n",
    "    }\n",
    "\n",
    "    # 사용자 입력과 일치하는 응답을 찾습니다.\n",
    "    for keyword, responses in base_data.items():\n",
    "        if keyword in user_input:\n",
    "            return random.choice(responses)\n",
    "\n",
    "    # 매칭되는 응답이 없을 경우 임의의 응답을 반환합니다.\n",
    "    return \"죄송해요, 제가 잘 이해하지 못했어요.\"\n",
    "\n",
    "# 채팅 인터페이스\n",
    "while True:\n",
    "    user_input = input(\"사용자: \")\n",
    "    response = generate_response(user_input)\n",
    "    print(\"인공지능: \" + response)\n"
   ]
  }
 ],
 "metadata": {
  "kernelspec": {
   "display_name": "Python 3",
   "language": "python",
   "name": "python3"
  },
  "language_info": {
   "codemirror_mode": {
    "name": "ipython",
    "version": 3
   },
   "file_extension": ".py",
   "mimetype": "text/x-python",
   "name": "python",
   "nbconvert_exporter": "python",
   "pygments_lexer": "ipython3",
   "version": "3.10.9"
  },
  "orig_nbformat": 4
 },
 "nbformat": 4,
 "nbformat_minor": 2
}
